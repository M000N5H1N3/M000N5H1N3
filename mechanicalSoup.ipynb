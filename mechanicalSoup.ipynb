{
 "cells": [
  {
   "cell_type": "code",
   "execution_count": 1,
   "id": "17321de8",
   "metadata": {},
   "outputs": [
    {
     "name": "stdout",
     "output_type": "stream",
     "text": [
      "https://images.google.com/\n"
     ]
    }
   ],
   "source": [
    "import mechanicalsoup\n",
    "\n",
    "browser = mechanicalsoup.StatefulBrowser()\n",
    "url = \"https://images.google.com/\"\n",
    "\n",
    "browser.open(url)\n",
    "print(browser.get_url())"
   ]
  },
  {
   "cell_type": "code",
   "execution_count": 2,
   "id": "5b225704",
   "metadata": {},
   "outputs": [
    {
     "name": "stdout",
     "output_type": "stream",
     "text": [
      "<input name=\"tbm\" type=\"hidden\" value=\"isch\"/>\n",
      "<input name=\"ie\" type=\"hidden\" value=\"ISO-8859-1\"/>\n",
      "<input name=\"hl\" type=\"hidden\" value=\"en\"/>\n",
      "<input name=\"source\" type=\"hidden\" value=\"hp\"/>\n",
      "<input name=\"biw\" type=\"hidden\"/>\n",
      "<input name=\"bih\" type=\"hidden\"/>\n",
      "<input autocomplete=\"off\" class=\"lst\" maxlength=\"2048\" name=\"q\" size=\"57\" style=\"margin:0;padding:5px 8px 0 6px;vertical-align:top;color:#000\" title=\"Search Images\" value=\"\"/>\n",
      "<input class=\"lsb\" name=\"btnG\" type=\"submit\" value=\"Search Images\"/>\n",
      "<input id=\"gbv\" name=\"gbv\" type=\"hidden\" value=\"1\"/>\n",
      "new url: https://www.google.com/search?tbm=isch&ie=ISO-8859-1&hl=en&source=hp&biw=&bih=&q=dog&btnG=Search+Images&gbv=1\n",
      "my response:\n",
      " <!DOCTYPE html PUBLIC \"-//WAPFORUM//DTD XHTML Mobile 1.0//EN\" \"http://www.wapforum.org/DTD/xhtml-mobile10.dtd\"><html xmlns=\"http://www.w3.org/1999/xhtml\" lang=\"en\"><head><meta content=\"application/xhtml+xml; charset=UTF-8\" http-equiv=\"Content-Type\"/><meta content=\"no-cache\" name=\"Cache-Control\"/><title>dog - Google Search</title><style>a{text-decoration:none;color:inherit}a:hover{text-decoration:underline}a img{border:0}body{font-family:arial,sans-serif;padding:8px;margin:0 auto;max-width:700px;\n"
     ]
    }
   ],
   "source": [
    "#get HTML\n",
    "browser.get_current_page()\n",
    "\n",
    "#target the search input\n",
    "browser.select_form()\n",
    "browser.get_current_form().print_summary()\n",
    "\n",
    "#search for a term\n",
    "search_term= 'dog'\n",
    "browser[\"q\"] = search_term\n",
    "\n",
    "#submit/\"click\" search\n",
    "browser.launch_browser()\n",
    "response = browser.submit_selected()\n",
    "\n",
    "print('new url:', browser.get_url())\n",
    "print('my response:\\n', response.text[:500])"
   ]
  },
  {
   "cell_type": "code",
   "execution_count": 3,
   "id": "3d1ddc6d",
   "metadata": {},
   "outputs": [
    {
     "data": {
      "text/plain": [
       "['/images/branding/searchlogo/1x/googlelogo_desk_heirloom_color_150x55dp.gif',\n",
       " 'https://encrypted-tbn0.gstatic.com/images?q=tbn:ANd9GcSFhiWD9Bp7SXM_HP8_TlWzuvs7MF-mPYa7LV0h8Q7Gy6ii7TjuJikwKWaZTOE&s',\n",
       " 'https://encrypted-tbn0.gstatic.com/images?q=tbn:ANd9GcTfLYoc2UQY1H-T6pDlPbAJ7J-_c5vxTdBLuMToBJRIM83bYkwLfUBzTW9VPHg&s',\n",
       " 'https://encrypted-tbn0.gstatic.com/images?q=tbn:ANd9GcTWHNTaWa0qpHbSwf8weuh0isl7UML97P1DiWLP1DUIgW29pXw3CfkRGb9UZLU&s',\n",
       " 'https://encrypted-tbn0.gstatic.com/images?q=tbn:ANd9GcSXuOAPnwBljHc6cR_94ZBUkbWAewaJdb5_XOJRu2tS6Af1wC38jbdwcL-HJjE&s',\n",
       " 'https://encrypted-tbn0.gstatic.com/images?q=tbn:ANd9GcRizx2yKARDQSLWiQ-bTCF5iXufRF_K0NO3RUpRCqmwURqYS4X7kNiX-sRaxyY&s',\n",
       " 'https://encrypted-tbn0.gstatic.com/images?q=tbn:ANd9GcTaw7PMFcP1lxL3JibXZ4dHc729iigt1BhzWIrgBF0L65vrRVCZlHsYyv-cOQ&s',\n",
       " 'https://encrypted-tbn0.gstatic.com/images?q=tbn:ANd9GcTb18bZKbYTugpVFgFCuvrSO9ZENPmDeaZ6JowelLEAxItWF-gs1JnHg44VWA&s',\n",
       " 'https://encrypted-tbn0.gstatic.com/images?q=tbn:ANd9GcRYjQZkydIul1RRPhThgrTWAqKvar5UTJbSnqmUwpZrLDnte-pqJOd2-TNAzEs&s',\n",
       " 'https://encrypted-tbn0.gstatic.com/images?q=tbn:ANd9GcTevZjUjXjfMFoQ6K3h3fz459kel_mXf7J53nrHE9XaEz5Qqg64Bw0O7992dQ&s',\n",
       " 'https://encrypted-tbn0.gstatic.com/images?q=tbn:ANd9GcSCbTOUjtay17aTC84ExVASI6yIjSCWdN9uhbFcFT-KtvhET74m68giht-xRA&s',\n",
       " 'https://encrypted-tbn0.gstatic.com/images?q=tbn:ANd9GcTnamp7eVimTsaOUEvf71i9LUN9acohvfKOjxUH9siSmxmFxIB3DtLKm2t4Jz8&s',\n",
       " 'https://encrypted-tbn0.gstatic.com/images?q=tbn:ANd9GcQEDtCLef6iEzrAyjaiZiIDWJ9MEo-EHHCufwV8IF_y18x7OnFHvhU0jKmz_vY&s',\n",
       " 'https://encrypted-tbn0.gstatic.com/images?q=tbn:ANd9GcSh1CDex3OiYYRoexsraVu13IcWKeoCZyMSrU0jp3fyxhMk_AgFSISbVrMv1g&s',\n",
       " 'https://encrypted-tbn0.gstatic.com/images?q=tbn:ANd9GcREwNquXDh140ZPfBZqic6UUaF_Zc2rP0uS7CGza4Tc_kxKRk_KcBFtOz5N34s&s',\n",
       " 'https://encrypted-tbn0.gstatic.com/images?q=tbn:ANd9GcTdurFOqrSLe1EoVXwvxumBz4qBQhzLXXTfUeQFyJ6xMyWGcmOC_RmvRYXscLs&s',\n",
       " 'https://encrypted-tbn0.gstatic.com/images?q=tbn:ANd9GcQDvO0ky2gO_nenMQVae5Cs5t3lvoFKLScrO9Cr4ZLozVcnZZO1lmYa1rba2ik&s',\n",
       " 'https://encrypted-tbn0.gstatic.com/images?q=tbn:ANd9GcRn448N87Qe6UF0TYv26HeEP5xYWWQFNZcA4ILIqan5-XN3atLpnRdghDS9NA&s',\n",
       " 'https://encrypted-tbn0.gstatic.com/images?q=tbn:ANd9GcSGzoOB_5OTRG6rfheYgOc4HJpiyeNQIZftRCzFiEsd0NaZ7pfuVa03ufW99g&s',\n",
       " 'https://encrypted-tbn0.gstatic.com/images?q=tbn:ANd9GcS4M4yYe7urhMp7lqbD0oP1Oj8NKvcFgIFULN6mB1N4IrY8ktPNWvWsrTmoRMA&s',\n",
       " 'https://encrypted-tbn0.gstatic.com/images?q=tbn:ANd9GcQf6E_4gU-x3Lp5GZuze_Mjx7dkRoIUhTFACGh3yHfxgvX7VjO1HR9Qmy_O4a4&s']"
      ]
     },
     "execution_count": 3,
     "metadata": {},
     "output_type": "execute_result"
    }
   ],
   "source": [
    "#open new URL\n",
    "new_url = browser.get_url()\n",
    "browser.open(new_url)\n",
    "\n",
    "#get HTML\n",
    "page = browser.get_current_page()\n",
    "all_images = page.find_all('img')\n",
    "\n",
    "#target the source attribute\n",
    "image_source = []\n",
    "for image in all_images:\n",
    "    image = image.get('src')\n",
    "    image_source.append(image)\n",
    "    \n",
    "image_source\n",
    "\n"
   ]
  },
  {
   "cell_type": "code",
   "execution_count": 4,
   "id": "16936cf8",
   "metadata": {},
   "outputs": [
    {
     "data": {
      "text/plain": [
       "['https://encrypted-tbn0.gstatic.com/images?q=tbn:ANd9GcSFhiWD9Bp7SXM_HP8_TlWzuvs7MF-mPYa7LV0h8Q7Gy6ii7TjuJikwKWaZTOE&s',\n",
       " 'https://encrypted-tbn0.gstatic.com/images?q=tbn:ANd9GcTfLYoc2UQY1H-T6pDlPbAJ7J-_c5vxTdBLuMToBJRIM83bYkwLfUBzTW9VPHg&s',\n",
       " 'https://encrypted-tbn0.gstatic.com/images?q=tbn:ANd9GcTWHNTaWa0qpHbSwf8weuh0isl7UML97P1DiWLP1DUIgW29pXw3CfkRGb9UZLU&s',\n",
       " 'https://encrypted-tbn0.gstatic.com/images?q=tbn:ANd9GcSXuOAPnwBljHc6cR_94ZBUkbWAewaJdb5_XOJRu2tS6Af1wC38jbdwcL-HJjE&s',\n",
       " 'https://encrypted-tbn0.gstatic.com/images?q=tbn:ANd9GcRizx2yKARDQSLWiQ-bTCF5iXufRF_K0NO3RUpRCqmwURqYS4X7kNiX-sRaxyY&s',\n",
       " 'https://encrypted-tbn0.gstatic.com/images?q=tbn:ANd9GcTaw7PMFcP1lxL3JibXZ4dHc729iigt1BhzWIrgBF0L65vrRVCZlHsYyv-cOQ&s',\n",
       " 'https://encrypted-tbn0.gstatic.com/images?q=tbn:ANd9GcTb18bZKbYTugpVFgFCuvrSO9ZENPmDeaZ6JowelLEAxItWF-gs1JnHg44VWA&s',\n",
       " 'https://encrypted-tbn0.gstatic.com/images?q=tbn:ANd9GcRYjQZkydIul1RRPhThgrTWAqKvar5UTJbSnqmUwpZrLDnte-pqJOd2-TNAzEs&s',\n",
       " 'https://encrypted-tbn0.gstatic.com/images?q=tbn:ANd9GcTevZjUjXjfMFoQ6K3h3fz459kel_mXf7J53nrHE9XaEz5Qqg64Bw0O7992dQ&s',\n",
       " 'https://encrypted-tbn0.gstatic.com/images?q=tbn:ANd9GcSCbTOUjtay17aTC84ExVASI6yIjSCWdN9uhbFcFT-KtvhET74m68giht-xRA&s',\n",
       " 'https://encrypted-tbn0.gstatic.com/images?q=tbn:ANd9GcTnamp7eVimTsaOUEvf71i9LUN9acohvfKOjxUH9siSmxmFxIB3DtLKm2t4Jz8&s',\n",
       " 'https://encrypted-tbn0.gstatic.com/images?q=tbn:ANd9GcQEDtCLef6iEzrAyjaiZiIDWJ9MEo-EHHCufwV8IF_y18x7OnFHvhU0jKmz_vY&s',\n",
       " 'https://encrypted-tbn0.gstatic.com/images?q=tbn:ANd9GcSh1CDex3OiYYRoexsraVu13IcWKeoCZyMSrU0jp3fyxhMk_AgFSISbVrMv1g&s',\n",
       " 'https://encrypted-tbn0.gstatic.com/images?q=tbn:ANd9GcREwNquXDh140ZPfBZqic6UUaF_Zc2rP0uS7CGza4Tc_kxKRk_KcBFtOz5N34s&s',\n",
       " 'https://encrypted-tbn0.gstatic.com/images?q=tbn:ANd9GcTdurFOqrSLe1EoVXwvxumBz4qBQhzLXXTfUeQFyJ6xMyWGcmOC_RmvRYXscLs&s',\n",
       " 'https://encrypted-tbn0.gstatic.com/images?q=tbn:ANd9GcQDvO0ky2gO_nenMQVae5Cs5t3lvoFKLScrO9Cr4ZLozVcnZZO1lmYa1rba2ik&s',\n",
       " 'https://encrypted-tbn0.gstatic.com/images?q=tbn:ANd9GcRn448N87Qe6UF0TYv26HeEP5xYWWQFNZcA4ILIqan5-XN3atLpnRdghDS9NA&s',\n",
       " 'https://encrypted-tbn0.gstatic.com/images?q=tbn:ANd9GcSGzoOB_5OTRG6rfheYgOc4HJpiyeNQIZftRCzFiEsd0NaZ7pfuVa03ufW99g&s',\n",
       " 'https://encrypted-tbn0.gstatic.com/images?q=tbn:ANd9GcS4M4yYe7urhMp7lqbD0oP1Oj8NKvcFgIFULN6mB1N4IrY8ktPNWvWsrTmoRMA&s',\n",
       " 'https://encrypted-tbn0.gstatic.com/images?q=tbn:ANd9GcQf6E_4gU-x3Lp5GZuze_Mjx7dkRoIUhTFACGh3yHfxgvX7VjO1HR9Qmy_O4a4&s']"
      ]
     },
     "execution_count": 4,
     "metadata": {},
     "output_type": "execute_result"
    }
   ],
   "source": [
    "image_source = [image for image in image_source if image.startswith('https')]\n",
    "image_source"
   ]
  },
  {
   "cell_type": "code",
   "execution_count": 5,
   "id": "5363d903",
   "metadata": {},
   "outputs": [
    {
     "data": {
      "text/plain": [
       "'C:\\\\Users\\\\bob\\\\PythonProjects\\\\MechanicalSoup\\\\dogs'"
      ]
     },
     "execution_count": 5,
     "metadata": {},
     "output_type": "execute_result"
    }
   ],
   "source": [
    "import os \n",
    "import wget\n",
    "\n",
    "path = os.getcwd()\n",
    "path = os.path.join(path, search_term + \"s\")\n",
    "\n",
    "#create the directory\n",
    "os.mkdir(path)\n",
    "\n",
    "path"
   ]
  },
  {
   "cell_type": "code",
   "execution_count": 6,
   "id": "6ce7c996",
   "metadata": {},
   "outputs": [
    {
     "name": "stdout",
     "output_type": "stream",
     "text": [
      "100% [................................................................................] 3403 / 3403"
     ]
    }
   ],
   "source": [
    "#download images \n",
    "counter = 0\n",
    "for image in image_source:\n",
    "    save_as = os.path.join(path, search_term + str(counter) + '.jpg')\n",
    "    wget.download(image, save_as)\n",
    "    counter += 1"
   ]
  },
  {
   "cell_type": "code",
   "execution_count": null,
   "id": "9e89d28a",
   "metadata": {},
   "outputs": [],
   "source": []
  }
 ],
 "metadata": {
  "kernelspec": {
   "display_name": "Python 3 (ipykernel)",
   "language": "python",
   "name": "python3"
  },
  "language_info": {
   "codemirror_mode": {
    "name": "ipython",
    "version": 3
   },
   "file_extension": ".py",
   "mimetype": "text/x-python",
   "name": "python",
   "nbconvert_exporter": "python",
   "pygments_lexer": "ipython3",
   "version": "3.9.12"
  }
 },
 "nbformat": 4,
 "nbformat_minor": 5
}
